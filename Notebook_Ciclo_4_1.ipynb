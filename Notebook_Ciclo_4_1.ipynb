{
  "cells": [
    {
      "cell_type": "markdown",
      "metadata": {
        "id": "J5ECtow0kMzs"
      },
      "source": [
        "# 0.0 Import Libraries and Loading Dataset Raw"
      ]
    },
    {
      "cell_type": "code",
      "execution_count": 1,
      "metadata": {
        "id": "YKVgy91uj6pr"
      },
      "outputs": [],
      "source": [
        "import pandas as pd\n",
        "import numpy as np\n",
        "import io\n",
        "import datetime"
      ]
    },
    {
      "cell_type": "code",
      "execution_count": 2,
      "metadata": {
        "id": "yMQ644GNkFJO"
      },
      "outputs": [],
      "source": [
        "df = pd.read_csv('csv/train.csv')"
      ]
    },
    {
      "cell_type": "code",
      "execution_count": 19,
      "metadata": {},
      "outputs": [],
      "source": [
        "# adjusting tools for better visual\n",
        "pd.options.display.max_columns = None"
      ]
    },
    {
      "cell_type": "markdown",
      "metadata": {
        "id": "FM6I2C7QkLx7"
      },
      "source": [
        "# 1.0 Cleaning the Data"
      ]
    },
    {
      "cell_type": "code",
      "execution_count": 3,
      "metadata": {
        "colab": {
          "base_uri": "https://localhost:8080/"
        },
        "id": "hc14BBPYk_2s",
        "outputId": "bfa3d270-80dd-4147-d66c-8d2ba45b6283"
      },
      "outputs": [
        {
          "name": "stdout",
          "output_type": "stream",
          "text": [
            "Number of rows    : 45593\n",
            "Number of columns : 20\n"
          ]
        }
      ],
      "source": [
        "print(f\"Number of rows    : {df.shape[0]}\")\n",
        "print(f\"Number of columns : {df.shape[1]}\")"
      ]
    },
    {
      "cell_type": "code",
      "execution_count": 4,
      "metadata": {
        "colab": {
          "base_uri": "https://localhost:8080/"
        },
        "id": "1ukV7BL4k8wS",
        "outputId": "3a16824f-bb56-4590-e28f-c02da4fe5fe1"
      },
      "outputs": [
        {
          "data": {
            "text/plain": [
              "ID                              object\n",
              "Delivery_person_ID              object\n",
              "Delivery_person_Age             object\n",
              "Delivery_person_Ratings         object\n",
              "Restaurant_latitude            float64\n",
              "Restaurant_longitude           float64\n",
              "Delivery_location_latitude     float64\n",
              "Delivery_location_longitude    float64\n",
              "Order_Date                      object\n",
              "Time_Orderd                     object\n",
              "Time_Order_picked               object\n",
              "Weatherconditions               object\n",
              "Road_traffic_density            object\n",
              "Vehicle_condition                int64\n",
              "Type_of_order                   object\n",
              "Type_of_vehicle                 object\n",
              "multiple_deliveries             object\n",
              "Festival                        object\n",
              "City                            object\n",
              "Time_taken(min)                 object\n",
              "dtype: object"
            ]
          },
          "execution_count": 4,
          "metadata": {},
          "output_type": "execute_result"
        }
      ],
      "source": [
        "df.dtypes"
      ]
    },
    {
      "cell_type": "code",
      "execution_count": 5,
      "metadata": {
        "colab": {
          "base_uri": "https://localhost:8080/"
        },
        "id": "_kvyDv2YlQHG",
        "outputId": "931c96ba-3e02-48e7-f08a-c02dfa430dfb"
      },
      "outputs": [
        {
          "name": "stdout",
          "output_type": "stream",
          "text": [
            "<class 'pandas.core.frame.DataFrame'>\n",
            "RangeIndex: 45593 entries, 0 to 45592\n",
            "Data columns (total 20 columns):\n",
            " #   Column                       Non-Null Count  Dtype  \n",
            "---  ------                       --------------  -----  \n",
            " 0   ID                           45593 non-null  object \n",
            " 1   Delivery_person_ID           45593 non-null  object \n",
            " 2   Delivery_person_Age          45593 non-null  object \n",
            " 3   Delivery_person_Ratings      45593 non-null  object \n",
            " 4   Restaurant_latitude          45593 non-null  float64\n",
            " 5   Restaurant_longitude         45593 non-null  float64\n",
            " 6   Delivery_location_latitude   45593 non-null  float64\n",
            " 7   Delivery_location_longitude  45593 non-null  float64\n",
            " 8   Order_Date                   45593 non-null  object \n",
            " 9   Time_Orderd                  45593 non-null  object \n",
            " 10  Time_Order_picked            45593 non-null  object \n",
            " 11  Weatherconditions            45593 non-null  object \n",
            " 12  Road_traffic_density         45593 non-null  object \n",
            " 13  Vehicle_condition            45593 non-null  int64  \n",
            " 14  Type_of_order                45593 non-null  object \n",
            " 15  Type_of_vehicle              45593 non-null  object \n",
            " 16  multiple_deliveries          45593 non-null  object \n",
            " 17  Festival                     45593 non-null  object \n",
            " 18  City                         45593 non-null  object \n",
            " 19  Time_taken(min)              45593 non-null  object \n",
            "dtypes: float64(4), int64(1), object(15)\n",
            "memory usage: 7.0+ MB\n"
          ]
        }
      ],
      "source": [
        "df.info()"
      ]
    },
    {
      "cell_type": "code",
      "execution_count": 7,
      "metadata": {
        "colab": {
          "base_uri": "https://localhost:8080/"
        },
        "id": "M_w2pHhPlX7o",
        "outputId": "884f266d-364e-4cce-f56c-d827f40c72c0"
      },
      "outputs": [
        {
          "data": {
            "text/plain": [
              "Index(['ID', 'Delivery_person_ID', 'Delivery_person_Age',\n",
              "       'Delivery_person_Ratings', 'Restaurant_latitude',\n",
              "       'Restaurant_longitude', 'Delivery_location_latitude',\n",
              "       'Delivery_location_longitude', 'Order_Date', 'Time_Orderd',\n",
              "       'Time_Order_picked', 'Weatherconditions', 'Road_traffic_density',\n",
              "       'Vehicle_condition', 'Type_of_order', 'Type_of_vehicle',\n",
              "       'multiple_deliveries', 'Festival', 'City', 'Time_taken(min)'],\n",
              "      dtype='object')"
            ]
          },
          "execution_count": 7,
          "metadata": {},
          "output_type": "execute_result"
        }
      ],
      "source": [
        "df.columns"
      ]
    },
    {
      "cell_type": "code",
      "execution_count": 8,
      "metadata": {
        "colab": {
          "base_uri": "https://localhost:8080/"
        },
        "id": "2bA07_yola8w",
        "outputId": "b32c9bfd-13fc-4f94-f918-b56ad3c02a99"
      },
      "outputs": [
        {
          "data": {
            "text/plain": [
              "array(['37', '34', '23', '38', '32', '22', '33', '35', '36', '21', '24',\n",
              "       '29', '25', '31', '27', '26', '20', 'NaN ', '28', '39', '30', '15',\n",
              "       '50'], dtype=object)"
            ]
          },
          "execution_count": 8,
          "metadata": {},
          "output_type": "execute_result"
        }
      ],
      "source": [
        "df['Delivery_person_Age'].unique()"
      ]
    },
    {
      "cell_type": "code",
      "execution_count": 9,
      "metadata": {
        "colab": {
          "base_uri": "https://localhost:8080/"
        },
        "id": "PQyTgCEMlkAg",
        "outputId": "83261628-ac6e-43d6-e012-8897653612ef"
      },
      "outputs": [
        {
          "data": {
            "text/plain": [
              "array(['Urban ', 'Metropolitian ', 'Semi-Urban ', 'NaN '], dtype=object)"
            ]
          },
          "execution_count": 9,
          "metadata": {},
          "output_type": "execute_result"
        }
      ],
      "source": [
        "df['City'].unique()"
      ]
    },
    {
      "cell_type": "code",
      "execution_count": 12,
      "metadata": {},
      "outputs": [
        {
          "data": {
            "text/plain": [
              "array(['19-03-2022', '25-03-2022', '05-04-2022', '26-03-2022',\n",
              "       '11-03-2022', '04-03-2022', '14-03-2022', '20-03-2022',\n",
              "       '12-02-2022', '13-02-2022', '14-02-2022', '02-04-2022',\n",
              "       '01-03-2022', '16-03-2022', '15-02-2022', '10-03-2022',\n",
              "       '27-03-2022', '12-03-2022', '01-04-2022', '05-03-2022',\n",
              "       '11-02-2022', '08-03-2022', '03-04-2022', '30-03-2022',\n",
              "       '28-03-2022', '18-03-2022', '06-04-2022', '04-04-2022',\n",
              "       '24-03-2022', '09-03-2022', '02-03-2022', '13-03-2022',\n",
              "       '29-03-2022', '31-03-2022', '17-03-2022', '07-03-2022',\n",
              "       '15-03-2022', '16-02-2022', '03-03-2022', '18-02-2022',\n",
              "       '23-03-2022', '17-02-2022', '06-03-2022', '21-03-2022'],\n",
              "      dtype=object)"
            ]
          },
          "execution_count": 12,
          "metadata": {},
          "output_type": "execute_result"
        }
      ],
      "source": [
        "df['Order_Date'].unique()"
      ]
    },
    {
      "cell_type": "markdown",
      "metadata": {
        "id": "c4N1ogvAlzOm"
      },
      "source": [
        "## 1.1 Making a Copy and Start cleaning the Data"
      ]
    },
    {
      "cell_type": "code",
      "execution_count": 52,
      "metadata": {
        "id": "QDLdXHmFlygi"
      },
      "outputs": [],
      "source": [
        "# Copy df to start changes\n",
        "df1 = df.copy()"
      ]
    },
    {
      "cell_type": "code",
      "execution_count": 53,
      "metadata": {
        "id": "lROxubWWkXXS"
      },
      "outputs": [],
      "source": [
        "# Checked this data has a lot o extra spaces in all columns, triming this spaces\n",
        "df1 = df1.applymap(lambda x : x.strip() if isinstance(x, str) else x)\n",
        "\n",
        "# Assuming incosistences in the dataset, we`re dropping all 'NaN' lines\n",
        "df1 = df1[df1['Delivery_person_Age'] != 'NaN']\n",
        "df1 = df1[df1['Time_Orderd'] != 'NaN']\n",
        "df1 = df1[df1['City'] != 'NaN']\n",
        "df1 = df1[df1['Festival'] != 'NaN']\n",
        "df1 = df1[df1['multiple_deliveries'] != 'NaN']\n",
        "\n",
        "# Removing extra info from cells\n",
        "df1['Weatherconditions'] = df1['Weatherconditions'].str.replace('conditions ', \"\")\n",
        "df1['Time_taken(min)'] = df1['Time_taken(min)'].str.slice(start=6)\n",
        "\n",
        "# Changing dtypes\n",
        "df1['Delivery_person_Age'] = df1['Delivery_person_Age'].astype('int64')\n",
        "df1['Delivery_person_Ratings'] = df1['Delivery_person_Ratings'].astype('float64')\n",
        "df1['Order_Date'] = pd.to_datetime(df1['Order_Date'], dayfirst=True)\n",
        "df1['Weatherconditions'] = df1['Weatherconditions'].astype('category')\n",
        "df1['Road_traffic_density'] = df1['Road_traffic_density'].astype('category')\n",
        "df1['Type_of_order'] = df1['Type_of_order'].astype('category')\n",
        "df1['Type_of_vehicle'] = df1['Type_of_vehicle'].astype('category')\n",
        "df1['City'] = df1['City'].astype('category')\n",
        "df1['Time_taken(min)'] = df1['Time_taken(min)'].astype('int64')\n",
        "df1['Festival'] = df1['Festival'].astype('category')\n",
        "df1['multiple_deliveries'] = df1['multiple_deliveries'].astype('category')\n",
        "df1['Vehicle_condition'] = df1['Vehicle_condition'].astype('category')\n",
        "\n",
        "# adding new columns\n",
        "df1['Time_diff'] = pd.to_datetime(df1['Time_Order_picked']) - pd.to_datetime(df1['Time_Orderd'])\n",
        "df1['Time_diff'] = df1['Time_diff'].dt.seconds // 60\n",
        "df['Order_datetime'] = df1.apply(\n",
        "    lambda x : \n",
        "    pd.to_datetime(\n",
        "    x['Order_Date'].strftime('%d-%m-%Y') + ' ' +\n",
        "    x['Time_Orderd']\n",
        "    , format='%d-%m-%Y %H:%M:%S'), axis = 1\n",
        ")\n",
        "\n"
      ]
    },
    {
      "cell_type": "code",
      "execution_count": 57,
      "metadata": {
        "colab": {
          "base_uri": "https://localhost:8080/",
          "height": 317
        },
        "id": "-o71CGTVmSeI",
        "outputId": "bc96cb85-306e-42aa-a646-b50b37eb0ff7"
      },
      "outputs": [
        {
          "data": {
            "text/html": [
              "<div>\n",
              "<style scoped>\n",
              "    .dataframe tbody tr th:only-of-type {\n",
              "        vertical-align: middle;\n",
              "    }\n",
              "\n",
              "    .dataframe tbody tr th {\n",
              "        vertical-align: top;\n",
              "    }\n",
              "\n",
              "    .dataframe thead th {\n",
              "        text-align: right;\n",
              "    }\n",
              "</style>\n",
              "<table border=\"1\" class=\"dataframe\">\n",
              "  <thead>\n",
              "    <tr style=\"text-align: right;\">\n",
              "      <th></th>\n",
              "      <th>ID</th>\n",
              "      <th>Delivery_person_ID</th>\n",
              "      <th>Delivery_person_Age</th>\n",
              "      <th>Delivery_person_Ratings</th>\n",
              "      <th>Restaurant_latitude</th>\n",
              "      <th>Restaurant_longitude</th>\n",
              "      <th>Delivery_location_latitude</th>\n",
              "      <th>Delivery_location_longitude</th>\n",
              "      <th>Order_Date</th>\n",
              "      <th>Time_Orderd</th>\n",
              "      <th>Time_Order_picked</th>\n",
              "      <th>Weatherconditions</th>\n",
              "      <th>Road_traffic_density</th>\n",
              "      <th>Vehicle_condition</th>\n",
              "      <th>Type_of_order</th>\n",
              "      <th>Type_of_vehicle</th>\n",
              "      <th>multiple_deliveries</th>\n",
              "      <th>Festival</th>\n",
              "      <th>City</th>\n",
              "      <th>Time_taken(min)</th>\n",
              "      <th>Order_datetime</th>\n",
              "      <th>Time_diff</th>\n",
              "    </tr>\n",
              "  </thead>\n",
              "  <tbody>\n",
              "    <tr>\n",
              "      <th>0</th>\n",
              "      <td>0x4607</td>\n",
              "      <td>INDORES13DEL02</td>\n",
              "      <td>37</td>\n",
              "      <td>4.9</td>\n",
              "      <td>22.745049</td>\n",
              "      <td>75.892471</td>\n",
              "      <td>22.765049</td>\n",
              "      <td>75.912471</td>\n",
              "      <td>2022-03-19</td>\n",
              "      <td>11:30:00</td>\n",
              "      <td>11:45:00</td>\n",
              "      <td>Sunny</td>\n",
              "      <td>High</td>\n",
              "      <td>2</td>\n",
              "      <td>Snack</td>\n",
              "      <td>motorcycle</td>\n",
              "      <td>0</td>\n",
              "      <td>No</td>\n",
              "      <td>Urban</td>\n",
              "      <td>24</td>\n",
              "      <td>2022-03-19 11:30:00</td>\n",
              "      <td>15</td>\n",
              "    </tr>\n",
              "    <tr>\n",
              "      <th>1</th>\n",
              "      <td>0xb379</td>\n",
              "      <td>BANGRES18DEL02</td>\n",
              "      <td>34</td>\n",
              "      <td>4.5</td>\n",
              "      <td>12.913041</td>\n",
              "      <td>77.683237</td>\n",
              "      <td>13.043041</td>\n",
              "      <td>77.813237</td>\n",
              "      <td>2022-03-25</td>\n",
              "      <td>19:45:00</td>\n",
              "      <td>19:50:00</td>\n",
              "      <td>Stormy</td>\n",
              "      <td>Jam</td>\n",
              "      <td>2</td>\n",
              "      <td>Snack</td>\n",
              "      <td>scooter</td>\n",
              "      <td>1</td>\n",
              "      <td>No</td>\n",
              "      <td>Metropolitian</td>\n",
              "      <td>33</td>\n",
              "      <td>2022-03-25 19:45:00</td>\n",
              "      <td>5</td>\n",
              "    </tr>\n",
              "    <tr>\n",
              "      <th>2</th>\n",
              "      <td>0x5d6d</td>\n",
              "      <td>BANGRES19DEL01</td>\n",
              "      <td>23</td>\n",
              "      <td>4.4</td>\n",
              "      <td>12.914264</td>\n",
              "      <td>77.678400</td>\n",
              "      <td>12.924264</td>\n",
              "      <td>77.688400</td>\n",
              "      <td>2022-03-19</td>\n",
              "      <td>08:30:00</td>\n",
              "      <td>08:45:00</td>\n",
              "      <td>Sandstorms</td>\n",
              "      <td>Low</td>\n",
              "      <td>0</td>\n",
              "      <td>Drinks</td>\n",
              "      <td>motorcycle</td>\n",
              "      <td>1</td>\n",
              "      <td>No</td>\n",
              "      <td>Urban</td>\n",
              "      <td>26</td>\n",
              "      <td>2022-03-19 08:30:00</td>\n",
              "      <td>15</td>\n",
              "    </tr>\n",
              "    <tr>\n",
              "      <th>3</th>\n",
              "      <td>0x7a6a</td>\n",
              "      <td>COIMBRES13DEL02</td>\n",
              "      <td>38</td>\n",
              "      <td>4.7</td>\n",
              "      <td>11.003669</td>\n",
              "      <td>76.976494</td>\n",
              "      <td>11.053669</td>\n",
              "      <td>77.026494</td>\n",
              "      <td>2022-04-05</td>\n",
              "      <td>18:00:00</td>\n",
              "      <td>18:10:00</td>\n",
              "      <td>Sunny</td>\n",
              "      <td>Medium</td>\n",
              "      <td>0</td>\n",
              "      <td>Buffet</td>\n",
              "      <td>motorcycle</td>\n",
              "      <td>1</td>\n",
              "      <td>No</td>\n",
              "      <td>Metropolitian</td>\n",
              "      <td>21</td>\n",
              "      <td>2022-05-04 18:00:00</td>\n",
              "      <td>10</td>\n",
              "    </tr>\n",
              "    <tr>\n",
              "      <th>4</th>\n",
              "      <td>0x70a2</td>\n",
              "      <td>CHENRES12DEL01</td>\n",
              "      <td>32</td>\n",
              "      <td>4.6</td>\n",
              "      <td>12.972793</td>\n",
              "      <td>80.249982</td>\n",
              "      <td>13.012793</td>\n",
              "      <td>80.289982</td>\n",
              "      <td>2022-03-26</td>\n",
              "      <td>13:30:00</td>\n",
              "      <td>13:45:00</td>\n",
              "      <td>Cloudy</td>\n",
              "      <td>High</td>\n",
              "      <td>1</td>\n",
              "      <td>Snack</td>\n",
              "      <td>scooter</td>\n",
              "      <td>1</td>\n",
              "      <td>No</td>\n",
              "      <td>Metropolitian</td>\n",
              "      <td>30</td>\n",
              "      <td>2022-03-26 13:30:00</td>\n",
              "      <td>15</td>\n",
              "    </tr>\n",
              "  </tbody>\n",
              "</table>\n",
              "</div>"
            ],
            "text/plain": [
              "       ID Delivery_person_ID  Delivery_person_Age  Delivery_person_Ratings  \\\n",
              "0  0x4607     INDORES13DEL02                   37                      4.9   \n",
              "1  0xb379     BANGRES18DEL02                   34                      4.5   \n",
              "2  0x5d6d     BANGRES19DEL01                   23                      4.4   \n",
              "3  0x7a6a    COIMBRES13DEL02                   38                      4.7   \n",
              "4  0x70a2     CHENRES12DEL01                   32                      4.6   \n",
              "\n",
              "   Restaurant_latitude  Restaurant_longitude  Delivery_location_latitude  \\\n",
              "0            22.745049             75.892471                   22.765049   \n",
              "1            12.913041             77.683237                   13.043041   \n",
              "2            12.914264             77.678400                   12.924264   \n",
              "3            11.003669             76.976494                   11.053669   \n",
              "4            12.972793             80.249982                   13.012793   \n",
              "\n",
              "   Delivery_location_longitude Order_Date Time_Orderd Time_Order_picked  \\\n",
              "0                    75.912471 2022-03-19    11:30:00          11:45:00   \n",
              "1                    77.813237 2022-03-25    19:45:00          19:50:00   \n",
              "2                    77.688400 2022-03-19    08:30:00          08:45:00   \n",
              "3                    77.026494 2022-04-05    18:00:00          18:10:00   \n",
              "4                    80.289982 2022-03-26    13:30:00          13:45:00   \n",
              "\n",
              "  Weatherconditions Road_traffic_density Vehicle_condition Type_of_order  \\\n",
              "0             Sunny                 High                 2         Snack   \n",
              "1            Stormy                  Jam                 2         Snack   \n",
              "2        Sandstorms                  Low                 0        Drinks   \n",
              "3             Sunny               Medium                 0        Buffet   \n",
              "4            Cloudy                 High                 1         Snack   \n",
              "\n",
              "  Type_of_vehicle multiple_deliveries Festival           City  \\\n",
              "0      motorcycle                   0       No          Urban   \n",
              "1         scooter                   1       No  Metropolitian   \n",
              "2      motorcycle                   1       No          Urban   \n",
              "3      motorcycle                   1       No  Metropolitian   \n",
              "4         scooter                   1       No  Metropolitian   \n",
              "\n",
              "   Time_taken(min)      Order_datetime  Time_diff  \n",
              "0               24 2022-03-19 11:30:00         15  \n",
              "1               33 2022-03-25 19:45:00          5  \n",
              "2               26 2022-03-19 08:30:00         15  \n",
              "3               21 2022-05-04 18:00:00         10  \n",
              "4               30 2022-03-26 13:30:00         15  "
            ]
          },
          "execution_count": 57,
          "metadata": {},
          "output_type": "execute_result"
        }
      ],
      "source": [
        "df1.head()"
      ]
    },
    {
      "cell_type": "code",
      "execution_count": 21,
      "metadata": {
        "colab": {
          "base_uri": "https://localhost:8080/"
        },
        "id": "QdJJbn2LmXTg",
        "outputId": "86158a18-71c7-4f13-fce5-08c7f72a45c8"
      },
      "outputs": [
        {
          "data": {
            "text/plain": [
              "(41419, 21)"
            ]
          },
          "execution_count": 21,
          "metadata": {},
          "output_type": "execute_result"
        }
      ],
      "source": [
        "df1.shape"
      ]
    },
    {
      "cell_type": "code",
      "execution_count": 22,
      "metadata": {
        "colab": {
          "base_uri": "https://localhost:8080/"
        },
        "id": "k_afAgw2nTro",
        "outputId": "454524bc-7e64-4203-97ed-aab12cde0e6c"
      },
      "outputs": [
        {
          "data": {
            "text/plain": [
              "ID                                     object\n",
              "Delivery_person_ID                     object\n",
              "Delivery_person_Age                     int64\n",
              "Delivery_person_Ratings               float64\n",
              "Restaurant_latitude                   float64\n",
              "Restaurant_longitude                  float64\n",
              "Delivery_location_latitude            float64\n",
              "Delivery_location_longitude           float64\n",
              "Order_Date                     datetime64[ns]\n",
              "Time_Orderd                            object\n",
              "Time_Order_picked                      object\n",
              "Weatherconditions                    category\n",
              "Road_traffic_density                 category\n",
              "Vehicle_condition                    category\n",
              "Type_of_order                        category\n",
              "Type_of_vehicle                      category\n",
              "multiple_deliveries                  category\n",
              "Festival                             category\n",
              "City                                 category\n",
              "Time_taken(min)                         int64\n",
              "Time_diff                               int64\n",
              "dtype: object"
            ]
          },
          "execution_count": 22,
          "metadata": {},
          "output_type": "execute_result"
        }
      ],
      "source": [
        "df1.dtypes"
      ]
    },
    {
      "cell_type": "code",
      "execution_count": null,
      "metadata": {
        "id": "bGOU-ku3w1T5"
      },
      "outputs": [],
      "source": [
        "df.info()"
      ]
    },
    {
      "cell_type": "code",
      "execution_count": null,
      "metadata": {
        "id": "wO21ilog-woX"
      },
      "outputs": [],
      "source": [
        "df.describe().T"
      ]
    }
  ],
  "metadata": {
    "colab": {
      "provenance": []
    },
    "kernelspec": {
      "display_name": "food_delivery",
      "language": "python",
      "name": "python3"
    },
    "language_info": {
      "codemirror_mode": {
        "name": "ipython",
        "version": 3
      },
      "file_extension": ".py",
      "mimetype": "text/x-python",
      "name": "python",
      "nbconvert_exporter": "python",
      "pygments_lexer": "ipython3",
      "version": "3.10.0"
    },
    "vscode": {
      "interpreter": {
        "hash": "dc10c0e5379b4212ee439b138d10aaa3cde422c104061ff8d6e4b69921537703"
      }
    }
  },
  "nbformat": 4,
  "nbformat_minor": 0
}
